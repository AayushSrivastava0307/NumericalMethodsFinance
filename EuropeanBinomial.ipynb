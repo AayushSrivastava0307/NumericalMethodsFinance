{
 "cells": [
  {
   "cell_type": "markdown",
   "metadata": {
    "id": "Var4Zz104IgV"
   },
   "source": [
    "# Binomial Trees\n",
    "\n",
    "\n",
    "\n",
    "Implementating a simple slow binomial pricing model in python. We will treat binomial tree as a network with nodes (i,j) with i representing the time steps and j representing the number of ordered price outcome (lowest - or bottom of tree - to highest).\n",
    "- binomial_tree\n",
    "We will be using a generic timing wrapper function to judge the time performance of using numpy arrays over for loops to iterate over j nodes in each time step i. Please note if you do not want to use the timing wrapper, please still import numpy!"
   ]
  },
  {
   "cell_type": "code",
   "execution_count": 1,
   "metadata": {
    "id": "ATGJA4kJ4Hy5"
   },
   "outputs": [],
   "source": [
    "import numpy as np\n",
    "\n",
    "from functools import wraps\n",
    "from time import time\n",
    "\n",
    "def timing(f):\n",
    "    @wraps(f)\n",
    "    def wrap(*args, **kw):\n",
    "        ts = time()\n",
    "        result = f(*args, **kw)\n",
    "        te = time()\n",
    "        print('func:%r args:[%r, %r] took: %2.4f sec' % \\\n",
    "          (f.__name__, args, kw, te-ts))\n",
    "        return result\n",
    "    return wrap"
   ]
  },
  {
   "cell_type": "markdown",
   "metadata": {
    "id": "Qdd3mANX4a39"
   },
   "source": [
    "## Binomial Tree Representation\n",
    "\n",
    "Stock tree can be represented using nodes $(i,j)$ and intial stock price $S0$\n",
    "\n",
    "$S_{i,j} = S_0u^{j}d^{i-j}$\n",
    "\n",
    "$C_{i,j}$ represents contract price at each node $(i,j)$. Where $C_{N,j}$ represents final payoff function that we can define.\n",
    "\n",
    "For this tutorial will will price a European Call, so $C_{N,j} = max(S_{N,j}-K,0)$"
   ]
  },
  {
   "cell_type": "code",
   "execution_count": 2,
   "metadata": {
    "id": "mTfwsQoD4ocn"
   },
   "outputs": [],
   "source": [
    "# Initialise parameters\n",
    "S0 = 100      # initial stock price\n",
    "K = 100       # strike price\n",
    "T = 1         # time to maturity in years\n",
    "r = 0.06      # annual risk-free rate\n",
    "N = 3         # number of time steps\n",
    "u = 1.1       # up-factor in binomial models\n",
    "d = 0.9       # ensure recombining tree\n",
    "opttype = 'C' # Option Type 'C' or 'P'"
   ]
  },
  {
   "cell_type": "markdown",
   "metadata": {
    "id": "Ne0KbFQI4q2F"
   },
   "source": [
    "## Binomial Tree Slow\n",
    "\n",
    "For the binomial tree slow, we will use for loops to iterate through nodes j at each time step i."
   ]
  },
  {
   "cell_type": "code",
   "execution_count": 3,
   "metadata": {
    "colab": {
     "base_uri": "https://localhost:8080/"
    },
    "executionInfo": {
     "elapsed": 279,
     "status": "ok",
     "timestamp": 1644886693825,
     "user": {
      "displayName": "Jonathon Emerick",
      "photoUrl": "https://lh3.googleusercontent.com/a-/AOh14Giq9xEw4DhtJYHMD-QFk9rivPfE8jUcWMAkBjHx=s64",
      "userId": "16629380951441395759"
     },
     "user_tz": -600
    },
    "id": "l5dS1IjM4t3M",
    "outputId": "60184553-0055-47f4-802f-75c95f6fd19b"
   },
   "outputs": [
    {
     "name": "stdout",
     "output_type": "stream",
     "text": [
      "func:'binomial_tree' args:[(100, 1, 100, 0.06, 3, 1.1, 0.9), {'opttype': 'C'}] took: 0.0000 sec\n"
     ]
    },
    {
     "data": {
      "text/plain": [
       "10.391101869597511"
      ]
     },
     "execution_count": 3,
     "metadata": {},
     "output_type": "execute_result"
    }
   ],
   "source": [
    "@timing\n",
    "def binomial_tree(K,T,S0,r,N,u,d,opttype='C'):\n",
    "    #precompute constants\n",
    "    dt = T/N\n",
    "    q = (np.exp(r*dt) - d) / (u-d)\n",
    "    disc = np.exp(-r*dt)\n",
    "    # disc =1/(r+1)\n",
    "\n",
    "    # initialise asset prices at maturity - Time step N\n",
    "    S = np.zeros(N+1)\n",
    "    S[0] = S0*d**N\n",
    "    for j in range(1,N+1):\n",
    "        S[j] = S[j-1]*u/d\n",
    "\n",
    "    # initialise option values at maturity\n",
    "    C = np.zeros(N+1)\n",
    "    for j in range(0,N+1):\n",
    "        C[j] = max(0, S[j]-K)\n",
    "\n",
    "    # step backwards through tree\n",
    "    for i in np.arange(N,0,-1):\n",
    "        for j in range(0,i):\n",
    "            C[j] = disc * ( q*C[j+1] + (1-q)*C[j] )\n",
    "\n",
    "    return C[0]\n",
    "\n",
    "binomial_tree(K,T,S0,r,N,u,d,opttype='C')"
   ]
  },
  {
   "cell_type": "markdown",
   "metadata": {
    "id": "Tkb2z8sB44J1"
   },
   "source": [
    "## Binomial Tree Runtime \n",
    "\n",
    "Now we will compare runtimes for slow."
   ]
  },
  {
   "cell_type": "code",
   "execution_count": 4,
   "metadata": {
    "colab": {
     "base_uri": "https://localhost:8080/"
    },
    "executionInfo": {
     "elapsed": 15318,
     "status": "ok",
     "timestamp": 1644886745632,
     "user": {
      "displayName": "Jonathon Emerick",
      "photoUrl": "https://lh3.googleusercontent.com/a-/AOh14Giq9xEw4DhtJYHMD-QFk9rivPfE8jUcWMAkBjHx=s64",
      "userId": "16629380951441395759"
     },
     "user_tz": -600
    },
    "id": "I6MafWol45eJ",
    "outputId": "c5e62d26-0a2d-4210-e90a-348655a564c4"
   },
   "outputs": [
    {
     "name": "stdout",
     "output_type": "stream",
     "text": [
      "func:'binomial_tree' args:[(100, 1, 100, 0.06, 3, 1.1, 0.9), {'opttype': 'C'}] took: 0.0000 sec\n",
      "func:'binomial_tree' args:[(100, 1, 100, 0.06, 50, 1.1, 0.9), {'opttype': 'C'}] took: 0.0000 sec\n",
      "func:'binomial_tree' args:[(100, 1, 100, 0.06, 100, 1.1, 0.9), {'opttype': 'C'}] took: 0.0030 sec\n",
      "func:'binomial_tree' args:[(100, 1, 100, 0.06, 1000, 1.1, 0.9), {'opttype': 'C'}] took: 0.2654 sec\n",
      "func:'binomial_tree' args:[(100, 1, 100, 0.06, 5000, 1.1, 0.9), {'opttype': 'C'}] took: 6.6900 sec\n"
     ]
    }
   ],
   "source": [
    "for N in [3,50, 100, 1000, 5000]:\n",
    "    binomial_tree(K,T,S0,r,N,u,d,opttype='C')\n",
    " "
   ]
  }
 ],
 "metadata": {
  "colab": {
   "provenance": []
  },
  "kernelspec": {
   "display_name": "Python 3",
   "name": "python3"
  },
  "language_info": {
   "codemirror_mode": {
    "name": "ipython",
    "version": 3
   },
   "file_extension": ".py",
   "mimetype": "text/x-python",
   "name": "python",
   "nbconvert_exporter": "python",
   "pygments_lexer": "ipython3",
   "version": "3.12.2"
  }
 },
 "nbformat": 4,
 "nbformat_minor": 0
}
