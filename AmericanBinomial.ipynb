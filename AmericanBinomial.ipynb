{
 "cells": [
  {
   "cell_type": "markdown",
   "metadata": {
    "id": "EnSEF5ZI63rp"
   },
   "source": [
    "# American Put Options with the Binomial Asset Pricing Model\n",
    "\n",
    "\n",
    "Implementation of the simple slow binomial pricing model in python. We will treat binomial tree as a network with nodes (i,j) with i representing the time steps and j representing the number of ordered price outcome (lowest - or bottom of tree - to highest).\n",
    "\n",
    "- american_tree\n",
    "\n"
   ]
  },
  {
   "cell_type": "code",
   "execution_count": 16,
   "metadata": {
    "id": "s_xibZws63rt"
   },
   "outputs": [],
   "source": [
    "import numpy as np"
   ]
  },
  {
   "cell_type": "markdown",
   "metadata": {
    "id": "6g6quLtD63ru"
   },
   "source": [
    "### Generic timing wrapper function\n",
    "We will use this to benchmark the two binomial models"
   ]
  },
  {
   "cell_type": "code",
   "execution_count": 17,
   "metadata": {
    "id": "Wl-cP9KM63ru"
   },
   "outputs": [],
   "source": [
    "from functools import wraps\n",
    "from time import time\n",
    "\n",
    "def timing(f):\n",
    "    @wraps(f)\n",
    "    def wrap(*args, **kw):\n",
    "        ts = time()\n",
    "        result = f(*args, **kw)\n",
    "        te = time()\n",
    "        print('func:%r args:[%r, %r] took: %2.4f sec' % \\\n",
    "          (f.__name__, args, kw, te-ts))\n",
    "        return result\n",
    "    return wrap"
   ]
  },
  {
   "cell_type": "markdown",
   "metadata": {
    "id": "AHCyvN8R63rv"
   },
   "source": [
    "### Binomial Tree Representation\n",
    "\n",
    "Stock tree can be represented using nodes (i,j) and intial stock price $S_0$\n",
    "\n",
    "$S_{i,j} = S_0u^{j}d^{i-j}$\n",
    "\n",
    "$C_{i,j}$ represents contract price at each node (i,j). Where $C_{N,j}$ represents final payoff function that we can define."
   ]
  },
  {
   "cell_type": "markdown",
   "metadata": {
    "id": "JOaH1b4t63rv"
   },
   "source": [
    "### American Option Characteristics\n",
    "For an American Put Option:\n",
    "\n",
    "if $T = t_N$ then at the terminal nodes, $C^{j}_N = (K-S^{j}_N)^{+}$\n",
    "\n",
    "for all other parts of the tree at nodes $(i,j)$\n",
    "\n",
    "- Max of exercise value or continuation/hold value\n",
    "\n",
    "- $C^{j}_i = \\max \\Big((K-S^{j}_i)^{+}, \\exp^{-r\\Delta t} \\big\\{ q^{j}_i C^{j+1}_{i+1} + (1 - q^{j}_i)C^{j-1}_{i-1}\\big\\}\\Big)$"
   ]
  },
  {
   "cell_type": "code",
   "execution_count": 18,
   "metadata": {
    "id": "4Czsjivz63rv"
   },
   "outputs": [],
   "source": [
    "# Initialise parameters\n",
    "S0 = 100      # initial stock price\n",
    "K = 100       # strike price\n",
    "T = 1         # time to maturity in years\n",
    "r = 0.06      # annual risk-free rate\n",
    "N = 3         # number of time steps\n",
    "u = 1.1       # up-factor in binomial models\n",
    "d = 0.9    # ensure recombining tree\n",
    "opttype = 'C' # Option Type 'C' or 'P'"
   ]
  },
  {
   "cell_type": "markdown",
   "metadata": {
    "id": "JtDk_bOc63rw"
   },
   "source": [
    "### American Tree Slow\n",
    "\n",
    "Here we will use for loops to iterate through nodes j at each time step i."
   ]
  },
  {
   "cell_type": "code",
   "execution_count": 19,
   "metadata": {
    "colab": {
     "base_uri": "https://localhost:8080/"
    },
    "executionInfo": {
     "elapsed": 325,
     "status": "ok",
     "timestamp": 1644887256471,
     "user": {
      "displayName": "Jonathon Emerick",
      "photoUrl": "https://lh3.googleusercontent.com/a-/AOh14Giq9xEw4DhtJYHMD-QFk9rivPfE8jUcWMAkBjHx=s64",
      "userId": "16629380951441395759"
     },
     "user_tz": -600
    },
    "id": "cU00lnpu63rw",
    "outputId": "b5d57446-7323-4315-eddc-636157a803b0"
   },
   "outputs": [
    {
     "name": "stdout",
     "output_type": "stream",
     "text": [
      "func:'american_tree' args:[(100, 1, 100, 0.06, 3, 1.1, 0.9), {'opttype': 'C'}] took: 0.0000 sec\n"
     ]
    },
    {
     "data": {
      "text/plain": [
       "10.391101869597515"
      ]
     },
     "execution_count": 19,
     "metadata": {},
     "output_type": "execute_result"
    }
   ],
   "source": [
    " @timing\n",
    "def american_tree(K,T,S0,r,N,u,d,opttype='C'):\n",
    "    #precompute values\n",
    "    dt = T/N\n",
    "    q = (np.exp(r*dt) - d)/(u-d)\n",
    "    disc = np.exp(-r*dt)\n",
    "\n",
    "    # initialise stock prices at maturity\n",
    "    S = np.zeros(N+1)\n",
    "    for j in range(0, N+1):\n",
    "        S[j] = S0 * u**j * d**(N-j)\n",
    "\n",
    "    # option payoff\n",
    "    C = np.zeros(N+1)\n",
    "    for j in range(0, N+1):\n",
    "        if opttype == 'P':\n",
    "            C[j] = max(0, K - S[j])\n",
    "        else:\n",
    "            C[j] = max(0, S[j] - K)\n",
    "\n",
    "    # backward recursion through the tree\n",
    "    for i in np.arange(N-1,-1,-1):\n",
    "        for j in range(0,i+1):\n",
    "            S = S0 * u**j * d**(i-j)\n",
    "            C[j] = disc * ( q*C[j+1] + (1-q)*C[j] )\n",
    "            if opttype == 'P':\n",
    "                C[j] = max(C[j], K - S)\n",
    "            else:\n",
    "                C[j] = max(C[j], S - K)\n",
    "\n",
    "    return C[0]\n",
    "\n",
    "american_tree(K,T,S0,r,N,u,d,opttype='C')"
   ]
  },
  {
   "cell_type": "markdown",
   "metadata": {
    "id": "T3V15VAG63rz"
   },
   "source": [
    "### Binomial Tree Slow Times\n",
    "\n",
    "Now we will compare runtimes for the algo "
   ]
  },
  {
   "cell_type": "code",
   "execution_count": 20,
   "metadata": {
    "colab": {
     "base_uri": "https://localhost:8080/"
    },
    "id": "g3E2qj1n63rz",
    "outputId": "5572e197-9781-4be5-c81a-a12aecbe2099"
   },
   "outputs": [
    {
     "name": "stdout",
     "output_type": "stream",
     "text": [
      "func:'american_tree' args:[(100, 1, 100, 0.06, 3, 1.1, 0.9), {'opttype': 'C'}] took: 0.0010 sec\n",
      "func:'american_tree' args:[(100, 1, 100, 0.06, 50, 1.1, 0.9), {'opttype': 'C'}] took: 0.0040 sec\n",
      "func:'american_tree' args:[(100, 1, 100, 0.06, 100, 1.1, 0.9), {'opttype': 'C'}] took: 0.0160 sec\n",
      "func:'american_tree' args:[(100, 1, 100, 0.06, 1000, 1.1, 0.9), {'opttype': 'C'}] took: 1.6016 sec\n",
      "func:'american_tree' args:[(100, 1, 100, 0.06, 5000, 1.1, 0.9), {'opttype': 'C'}] took: 38.8387 sec\n"
     ]
    },
    {
     "ename": "OverflowError",
     "evalue": "(34, 'Result too large')",
     "output_type": "error",
     "traceback": [
      "\u001b[1;31m---------------------------------------------------------------------------\u001b[0m",
      "\u001b[1;31mOverflowError\u001b[0m                             Traceback (most recent call last)",
      "Cell \u001b[1;32mIn[20], line 2\u001b[0m\n\u001b[0;32m      1\u001b[0m \u001b[38;5;28;01mfor\u001b[39;00m N \u001b[38;5;129;01min\u001b[39;00m [\u001b[38;5;241m3\u001b[39m,\u001b[38;5;241m50\u001b[39m, \u001b[38;5;241m100\u001b[39m, \u001b[38;5;241m1000\u001b[39m, \u001b[38;5;241m5000\u001b[39m,\u001b[38;5;241m20000\u001b[39m]:\n\u001b[1;32m----> 2\u001b[0m     \u001b[43mamerican_tree\u001b[49m\u001b[43m(\u001b[49m\u001b[43mK\u001b[49m\u001b[43m,\u001b[49m\u001b[43mT\u001b[49m\u001b[43m,\u001b[49m\u001b[43mS0\u001b[49m\u001b[43m,\u001b[49m\u001b[43mr\u001b[49m\u001b[43m,\u001b[49m\u001b[43mN\u001b[49m\u001b[43m,\u001b[49m\u001b[43mu\u001b[49m\u001b[43m,\u001b[49m\u001b[43md\u001b[49m\u001b[43m,\u001b[49m\u001b[43mopttype\u001b[49m\u001b[38;5;241;43m=\u001b[39;49m\u001b[38;5;124;43m'\u001b[39;49m\u001b[38;5;124;43mC\u001b[39;49m\u001b[38;5;124;43m'\u001b[39;49m\u001b[43m)\u001b[49m\n",
      "Cell \u001b[1;32mIn[17], line 8\u001b[0m, in \u001b[0;36mtiming.<locals>.wrap\u001b[1;34m(*args, **kw)\u001b[0m\n\u001b[0;32m      5\u001b[0m \u001b[38;5;129m@wraps\u001b[39m(f)\n\u001b[0;32m      6\u001b[0m \u001b[38;5;28;01mdef\u001b[39;00m \u001b[38;5;21mwrap\u001b[39m(\u001b[38;5;241m*\u001b[39margs, \u001b[38;5;241m*\u001b[39m\u001b[38;5;241m*\u001b[39mkw):\n\u001b[0;32m      7\u001b[0m     ts \u001b[38;5;241m=\u001b[39m time()\n\u001b[1;32m----> 8\u001b[0m     result \u001b[38;5;241m=\u001b[39m \u001b[43mf\u001b[49m\u001b[43m(\u001b[49m\u001b[38;5;241;43m*\u001b[39;49m\u001b[43margs\u001b[49m\u001b[43m,\u001b[49m\u001b[43m \u001b[49m\u001b[38;5;241;43m*\u001b[39;49m\u001b[38;5;241;43m*\u001b[39;49m\u001b[43mkw\u001b[49m\u001b[43m)\u001b[49m\n\u001b[0;32m      9\u001b[0m     te \u001b[38;5;241m=\u001b[39m time()\n\u001b[0;32m     10\u001b[0m     \u001b[38;5;28mprint\u001b[39m(\u001b[38;5;124m'\u001b[39m\u001b[38;5;124mfunc:\u001b[39m\u001b[38;5;132;01m%r\u001b[39;00m\u001b[38;5;124m args:[\u001b[39m\u001b[38;5;132;01m%r\u001b[39;00m\u001b[38;5;124m, \u001b[39m\u001b[38;5;132;01m%r\u001b[39;00m\u001b[38;5;124m] took: \u001b[39m\u001b[38;5;132;01m%2.4f\u001b[39;00m\u001b[38;5;124m sec\u001b[39m\u001b[38;5;124m'\u001b[39m \u001b[38;5;241m%\u001b[39m \\\n\u001b[0;32m     11\u001b[0m       (f\u001b[38;5;241m.\u001b[39m\u001b[38;5;18m__name__\u001b[39m, args, kw, te\u001b[38;5;241m-\u001b[39mts))\n",
      "Cell \u001b[1;32mIn[19], line 11\u001b[0m, in \u001b[0;36mamerican_tree\u001b[1;34m(K, T, S0, r, N, u, d, opttype)\u001b[0m\n\u001b[0;32m      9\u001b[0m S \u001b[38;5;241m=\u001b[39m np\u001b[38;5;241m.\u001b[39mzeros(N\u001b[38;5;241m+\u001b[39m\u001b[38;5;241m1\u001b[39m)\n\u001b[0;32m     10\u001b[0m \u001b[38;5;28;01mfor\u001b[39;00m j \u001b[38;5;129;01min\u001b[39;00m \u001b[38;5;28mrange\u001b[39m(\u001b[38;5;241m0\u001b[39m, N\u001b[38;5;241m+\u001b[39m\u001b[38;5;241m1\u001b[39m):\n\u001b[1;32m---> 11\u001b[0m     S[j] \u001b[38;5;241m=\u001b[39m S0 \u001b[38;5;241m*\u001b[39m \u001b[43mu\u001b[49m\u001b[38;5;241;43m*\u001b[39;49m\u001b[38;5;241;43m*\u001b[39;49m\u001b[43mj\u001b[49m \u001b[38;5;241m*\u001b[39m d\u001b[38;5;241m*\u001b[39m\u001b[38;5;241m*\u001b[39m(N\u001b[38;5;241m-\u001b[39mj)\n\u001b[0;32m     13\u001b[0m \u001b[38;5;66;03m# option payoff\u001b[39;00m\n\u001b[0;32m     14\u001b[0m C \u001b[38;5;241m=\u001b[39m np\u001b[38;5;241m.\u001b[39mzeros(N\u001b[38;5;241m+\u001b[39m\u001b[38;5;241m1\u001b[39m)\n",
      "\u001b[1;31mOverflowError\u001b[0m: (34, 'Result too large')"
     ]
    }
   ],
   "source": [
    "for N in [3,50, 100, 1000, 5000,20000]:\n",
    "    american_tree(K,T,S0,r,N,u,d,opttype='C')"
   ]
  }
 ],
 "metadata": {
  "colab": {
   "provenance": []
  },
  "kernelspec": {
   "display_name": "Python 3",
   "language": "python",
   "name": "python3"
  },
  "language_info": {
   "codemirror_mode": {
    "name": "ipython",
    "version": 3
   },
   "file_extension": ".py",
   "mimetype": "text/x-python",
   "name": "python",
   "nbconvert_exporter": "python",
   "pygments_lexer": "ipython3",
   "version": "3.12.2"
  }
 },
 "nbformat": 4,
 "nbformat_minor": 0
}
